{
 "cells": [
  {
   "cell_type": "markdown",
   "id": "3c3b7274",
   "metadata": {},
   "source": [
    "## Initial test on which variables might be important + predictions"
   ]
  },
  {
   "cell_type": "code",
   "execution_count": 174,
   "id": "38147b02",
   "metadata": {},
   "outputs": [],
   "source": [
    "import pandas as pd\n",
    "import cvxpy as cp\n",
    "import numpy as np\n",
    "import matplotlib.pyplot as plt\n",
    "from sklearn.model_selection import train_test_split\n",
    "from sklearn.neighbors import KNeighborsRegressor\n",
    "from sklearn.metrics import mean_squared_error\n",
    "from math import sqrt\n",
    "import seaborn as sns\n",
    "from sklearn.model_selection import GridSearchCV\n",
    "from sklearn.ensemble import BaggingRegressor\n",
    "from sklearn.tree import DecisionTreeRegressor \n",
    "pd.set_option('display.max_rows', 500)\n",
    "pd.set_option('display.max_columns', 500)"
   ]
  },
  {
   "cell_type": "code",
   "execution_count": 77,
   "id": "20c1eab2",
   "metadata": {},
   "outputs": [],
   "source": [
    "#helper function\n",
    "def read_file(filename):\n",
    "    data = []\n",
    "    for i in range(len(filename.sheet_names)):\n",
    "            data.append(pd.read_excel(filename,i))\n",
    "    return data"
   ]
  },
  {
   "cell_type": "code",
   "execution_count": 78,
   "id": "78bda9f4",
   "metadata": {},
   "outputs": [],
   "source": [
    "xls = pd.ExcelFile('Cleaned Data/PIT_State_vF.xlsx')\n",
    "PIT_State_vF = read_file(xls)\n",
    "#PIT_State_vF[0]"
   ]
  },
  {
   "cell_type": "code",
   "execution_count": 79,
   "id": "6b23e6ef",
   "metadata": {},
   "outputs": [],
   "source": [
    "xls = pd.ExcelFile('Cleaned Data/HIC_State_vF.xlsx')\n",
    "HIC_State_vF = read_file(xls)\n",
    "#HIC_State_vF[0].head()\n",
    "#HIC_State_vF[0][\"State\"].all() == PIT_State_vF[0][\"State\"].all()"
   ]
  },
  {
   "cell_type": "code",
   "execution_count": 80,
   "id": "d88848c8",
   "metadata": {},
   "outputs": [],
   "source": [
    "xls = pd.ExcelFile('Cleaned Data/PIT_State_Change_vF.xlsx')\n",
    "PIT_State_Change_vF = read_file(xls)"
   ]
  },
  {
   "cell_type": "markdown",
   "id": "1c60dedf",
   "metadata": {},
   "source": [
    "## Change in Homelessness vs. Inventory Counts"
   ]
  },
  {
   "cell_type": "code",
   "execution_count": 176,
   "id": "9f6d37f7",
   "metadata": {},
   "outputs": [],
   "source": [
    "#normalization necessary?"
   ]
  },
  {
   "cell_type": "code",
   "execution_count": 151,
   "id": "2d13d56b",
   "metadata": {},
   "outputs": [],
   "source": [
    "copy = pd.concat([PIT_State_Change_vF[0][\"Change in Total Homelessness, 2021-2022\"], HIC_State_vF[0]], axis = 1)\n",
    "#copy.head()"
   ]
  },
  {
   "cell_type": "code",
   "execution_count": 152,
   "id": "f62ba60d",
   "metadata": {},
   "outputs": [
    {
     "data": {
      "text/plain": [
       "Change in Total Homelessness, 2021-2022                     1.000000\n",
       "Total Year-Round Beds (ES, TH, SH)                         -0.035819\n",
       "Total Non-DV Year-Round Beds (ES, TH, SH)                  -0.035741\n",
       "Total HMIS Year-Round Beds (ES, TH, SH)                    -0.035757\n",
       "HMIS Participation Rate for Year-Round Beds (ES, TH, SH)   -0.587368\n",
       "Name: Change in Total Homelessness, 2021-2022, dtype: float64"
      ]
     },
     "execution_count": 152,
     "metadata": {},
     "output_type": "execute_result"
    }
   ],
   "source": [
    "corr_mat = copy.corr(numeric_only = True)\n",
    "corr_mat[\"Change in Total Homelessness, 2021-2022\"].head()"
   ]
  },
  {
   "cell_type": "code",
   "execution_count": 153,
   "id": "718b19f9",
   "metadata": {},
   "outputs": [],
   "source": [
    "#MP dropped - outlier?\n",
    "copy = copy.drop([26])\n",
    "X = copy.drop([\"State\", \"Change in Total Homelessness, 2021-2022\", \n",
    "               \"HMIS Participation Rate for Year-Round Beds (RRH)\",\n",
    "               \"HMIS Participation Rate for Year-Round Beds (PSH)\",\n",
    "               \"HMIS Participation Rate for Year-Round Beds (OPH)\",\n",
    "               \"HMIS Participation Rate for Year-Round Beds (SH)\",\n",
    "               \"HMIS Participation Rate for Year-Round Beds (TH)\",\n",
    "               \"HMIS Participation Rate for Year-Round Beds (ES)\",\n",
    "               \"HMIS Participation Rate for Year-Round Beds (ES, TH, SH)\"], axis=1)\n",
    "X = X.values\n",
    "y = copy[\"Change in Total Homelessness, 2021-2022\"]\n",
    "y = y.values"
   ]
  },
  {
   "cell_type": "code",
   "execution_count": 154,
   "id": "1096832e",
   "metadata": {},
   "outputs": [
    {
     "name": "stdout",
     "output_type": "stream",
     "text": [
      "RMSE: 1.196533986886241\n"
     ]
    }
   ],
   "source": [
    "X_train, X_test, y_train, y_test = train_test_split(X, y, test_size=0.2, random_state=12345)\n",
    "parameters = {\"n_neighbors\": range(1, 25), 'weights': ['uniform', 'distance']}\n",
    "gridsearch = GridSearchCV(KNeighborsRegressor(), parameters)\n",
    "gridsearch.fit(X_train, y_train)\n",
    "#gridsearch.best_params_\n",
    "\n",
    "best_k = gridsearch.best_params_[\"n_neighbors\"]\n",
    "best_weights = gridsearch.best_params_[\"weights\"]\n",
    "bagged_knn = KNeighborsRegressor(n_neighbors=best_k, weights=best_weights)\n",
    "bagging_model = BaggingRegressor(bagged_knn, n_estimators=100)\n",
    "\n",
    "bagging_model.fit(X_train, y_train)\n",
    "test_preds_grid = bagging_model.predict(X_test)\n",
    "test_mse = mean_squared_error(y_test, test_preds_grid)\n",
    "test_rmse = sqrt(test_mse)\n",
    "print(\"RMSE:\",test_rmse)"
   ]
  },
  {
   "cell_type": "markdown",
   "id": "e91a049e",
   "metadata": {},
   "source": [
    "## Change in Homelessness vs Change in Inventory Counts"
   ]
  },
  {
   "cell_type": "code",
   "execution_count": 140,
   "id": "9ed4a8b1",
   "metadata": {},
   "outputs": [],
   "source": [
    "if HIC_State_vF[0].columns.all() == HIC_State_vF[1].columns.all():\n",
    "    new1 = HIC_State_vF[0].drop([\"State\", \n",
    "                   \"HMIS Participation Rate for Year-Round Beds (RRH)\",\n",
    "                   \"HMIS Participation Rate for Year-Round Beds (PSH)\",\n",
    "                   \"HMIS Participation Rate for Year-Round Beds (OPH)\",\n",
    "                   \"HMIS Participation Rate for Year-Round Beds (SH)\",\n",
    "                   \"HMIS Participation Rate for Year-Round Beds (TH)\",\n",
    "                   \"HMIS Participation Rate for Year-Round Beds (ES)\",\n",
    "                   \"HMIS Participation Rate for Year-Round Beds (ES, TH, SH)\"], axis=1)\n",
    "\n",
    "    new2 = HIC_State_vF[1].drop([\"State\", \n",
    "                   \"HMIS Participation Rate for Year-Round Beds (RRH)\",\n",
    "                   \"HMIS Participation Rate for Year-Round Beds (PSH)\",\n",
    "                   \"HMIS Participation Rate for Year-Round Beds (OPH)\",\n",
    "                   \"HMIS Participation Rate for Year-Round Beds (SH)\",\n",
    "                   \"HMIS Participation Rate for Year-Round Beds (TH)\",\n",
    "                   \"HMIS Participation Rate for Year-Round Beds (ES)\",\n",
    "                   \"HMIS Participation Rate for Year-Round Beds (ES, TH, SH)\"], axis=1)"
   ]
  },
  {
   "cell_type": "code",
   "execution_count": 180,
   "id": "e8349337",
   "metadata": {},
   "outputs": [],
   "source": [
    "copy = pd.concat([PIT_State_Change_vF[0][\"Change in Total Homelessness, 2021-2022\"], new1-new2], axis = 1)\n",
    "copy = copy.drop([26])\n",
    "X = copy.drop([\"Change in Total Homelessness, 2021-2022\"], axis=1).values\n",
    "y = copy[\"Change in Total Homelessness, 2021-2022\"].values"
   ]
  },
  {
   "cell_type": "code",
   "execution_count": 182,
   "id": "d7ec8c34",
   "metadata": {},
   "outputs": [
    {
     "name": "stdout",
     "output_type": "stream",
     "text": [
      "RMSE: 0.7684336142790124\n"
     ]
    }
   ],
   "source": [
    "X_train, X_test, y_train, y_test = train_test_split(X, y, test_size=0.2, random_state=1421)\n",
    "parameters = {\"n_neighbors\": range(1, 30), 'weights': ['uniform', 'distance']}\n",
    "gridsearch = GridSearchCV(KNeighborsRegressor(), parameters)\n",
    "gridsearch.fit(X_train, y_train)\n",
    "#gridsearch.best_params_\n",
    "\n",
    "best_k = gridsearch.best_params_[\"n_neighbors\"]\n",
    "best_weights = gridsearch.best_params_[\"weights\"]\n",
    "bagged_knn = KNeighborsRegressor(n_neighbors=best_k, weights=best_weights)\n",
    "bagging_model = BaggingRegressor(bagged_knn, n_estimators=100)\n",
    "\n",
    "bagging_model.fit(X_train, y_train)\n",
    "test_preds_grid = bagging_model.predict(X_test)\n",
    "test_mse = mean_squared_error(y_test, test_preds_grid)\n",
    "test_rmse = sqrt(test_mse)\n",
    "print(\"RMSE:\",test_rmse)"
   ]
  },
  {
   "cell_type": "code",
   "execution_count": 143,
   "id": "24aeffb5",
   "metadata": {},
   "outputs": [],
   "source": [
    "#change in inventory seems to be the better predictor for change in homeless, although not \"foolproof\""
   ]
  },
  {
   "cell_type": "markdown",
   "id": "50727069",
   "metadata": {},
   "source": [
    "## Decision Tree"
   ]
  },
  {
   "cell_type": "code",
   "execution_count": 175,
   "id": "54046c6e",
   "metadata": {},
   "outputs": [
    {
     "name": "stdout",
     "output_type": "stream",
     "text": [
      "RMSE: 1.8116121779878962\n"
     ]
    }
   ],
   "source": [
    "regressor = DecisionTreeRegressor(random_state = 100) \n",
    "\n",
    "X_train, X_test, y_train, y_test = train_test_split(X, y, test_size=0.2, random_state=100)\n",
    "regressor.fit(X_train, y_train)\n",
    "\n",
    "test_preds_grid = regressor.predict(X_test)\n",
    "test_mse = mean_squared_error(y_test, test_preds_grid)\n",
    "test_rmse = sqrt(test_mse)\n",
    "print(\"RMSE:\",test_rmse)"
   ]
  }
 ],
 "metadata": {
  "kernelspec": {
   "display_name": "Python 3 (ipykernel)",
   "language": "python",
   "name": "python3"
  },
  "language_info": {
   "codemirror_mode": {
    "name": "ipython",
    "version": 3
   },
   "file_extension": ".py",
   "mimetype": "text/x-python",
   "name": "python",
   "nbconvert_exporter": "python",
   "pygments_lexer": "ipython3",
   "version": "3.9.6"
  }
 },
 "nbformat": 4,
 "nbformat_minor": 5
}
