{
 "cells": [
  {
   "cell_type": "code",
   "execution_count": 11,
   "id": "c3f4e8b7",
   "metadata": {},
   "outputs": [],
   "source": [
    "import numpy as np\n",
    "import pandas as pd\n",
    "\n",
    "import warnings\n",
    "warnings.filterwarnings('ignore', category=UserWarning, module='openpyxl')"
   ]
  },
  {
   "cell_type": "code",
   "execution_count": 40,
   "id": "f71a24e0",
   "metadata": {},
   "outputs": [],
   "source": [
    "#helper functions\n",
    "\n",
    "def read_file(filename, pit_state=False):\n",
    "    change = []\n",
    "    data = []\n",
    "    for i in range(len(filename.sheet_names)):\n",
    "        if pit_state==True:\n",
    "            if i==0:\n",
    "                change = pd.read_excel(filename, 0)\n",
    "            else:\n",
    "                data.append(pd.read_excel(filename, i))\n",
    "        else:\n",
    "            data.append(pd.read_excel(filename,i))\n",
    "    if pit_state==True: return change, data\n",
    "    return data"
   ]
  },
  {
   "cell_type": "markdown",
   "id": "9b2422b5",
   "metadata": {},
   "source": [
    "## PIT State Data"
   ]
  },
  {
   "cell_type": "code",
   "execution_count": 27,
   "id": "1e85c45d",
   "metadata": {},
   "outputs": [],
   "source": [
    "xls = pd.ExcelFile('Data/2007-2022-PIT-Counts-by-State.xlsx')\n",
    "\n",
    "PIT_State_Change, PIT_State_Data = read_file(xls, True)"
   ]
  },
  {
   "cell_type": "code",
   "execution_count": 47,
   "id": "03917bdf",
   "metadata": {},
   "outputs": [],
   "source": [
    "#veteran data\n",
    "\n",
    "xls = pd.ExcelFile('Data/2011-2022-PIT-Veteran-Counts-by-State.xlsx')\n",
    "\n",
    "PIT_Veteran_Change, PIT_Veteran_State = read_file(xls, True)"
   ]
  },
  {
   "cell_type": "markdown",
   "id": "867d49f1",
   "metadata": {},
   "source": [
    "## PIT CoC Data"
   ]
  },
  {
   "cell_type": "code",
   "execution_count": 36,
   "id": "04290ccf",
   "metadata": {},
   "outputs": [],
   "source": [
    "xls = pd.ExcelFile('Data/2007-2022-PIT-Counts-by-CoC.xlsx')\n",
    "\n",
    "PIT_CoC_Data = read_file(xls)"
   ]
  },
  {
   "cell_type": "code",
   "execution_count": 50,
   "id": "80a45a6c",
   "metadata": {},
   "outputs": [],
   "source": [
    "#veteran data\n",
    "\n",
    "xls = pd.ExcelFile('Data/2011-2022-PIT-Veteran-Counts-by-CoC.xlsx')\n",
    "\n",
    "PIT_Veteran_State = read_file(xls)"
   ]
  },
  {
   "cell_type": "markdown",
   "id": "9c6a09ea",
   "metadata": {},
   "source": [
    "## HIC State Data"
   ]
  },
  {
   "cell_type": "code",
   "execution_count": 51,
   "id": "b36fec8a",
   "metadata": {},
   "outputs": [],
   "source": [
    "xls = pd.ExcelFile('Data/2007-2022-HIC-Counts-by-State.xlsx')\n",
    "\n",
    "HIC_State_Data = read_file(xls)"
   ]
  },
  {
   "cell_type": "markdown",
   "id": "e9deb0ef",
   "metadata": {},
   "source": [
    "## HIC CoC Data"
   ]
  },
  {
   "cell_type": "code",
   "execution_count": 52,
   "id": "9c3abfd2",
   "metadata": {},
   "outputs": [],
   "source": [
    "xls = pd.ExcelFile('Data/2007-2022-HIC-Counts-by-CoC.xlsx')\n",
    "\n",
    "HIC_CoC_Data = read_file(xls)"
   ]
  },
  {
   "cell_type": "markdown",
   "id": "4c893f0b",
   "metadata": {},
   "source": [
    "## Funding Data"
   ]
  },
  {
   "cell_type": "code",
   "execution_count": 53,
   "id": "7b753ff4",
   "metadata": {},
   "outputs": [],
   "source": [
    "xls = pd.ExcelFile('Data/All-States-2020-2021-Funding-Report.xlsx')\n",
    "\n",
    "Funding_Data = read_file(xls)"
   ]
  }
 ],
 "metadata": {
  "kernelspec": {
   "display_name": "Python 3 (ipykernel)",
   "language": "python",
   "name": "python3"
  },
  "language_info": {
   "codemirror_mode": {
    "name": "ipython",
    "version": 3
   },
   "file_extension": ".py",
   "mimetype": "text/x-python",
   "name": "python",
   "nbconvert_exporter": "python",
   "pygments_lexer": "ipython3",
   "version": "3.9.6"
  }
 },
 "nbformat": 4,
 "nbformat_minor": 5
}
