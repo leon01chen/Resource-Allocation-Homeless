{
 "cells": [
  {
   "cell_type": "code",
   "execution_count": 124,
   "id": "c3f4e8b7",
   "metadata": {},
   "outputs": [],
   "source": [
    "import pandas as pd\n",
    "\n",
    "import warnings\n",
    "warnings.filterwarnings('ignore', category=UserWarning, module='openpyxl')"
   ]
  },
  {
   "cell_type": "code",
   "execution_count": 3,
   "id": "f71a24e0",
   "metadata": {},
   "outputs": [],
   "source": [
    "#helper functions\n",
    "\n",
    "def read_file(filename, pit_state=False):\n",
    "    change = []\n",
    "    data = []\n",
    "    for i in range(len(filename.sheet_names)):\n",
    "        if pit_state==True:\n",
    "            if i==0:\n",
    "                change = pd.read_excel(filename, 0)\n",
    "            else:\n",
    "                data.append(pd.read_excel(filename, i))\n",
    "        else:\n",
    "            data.append(pd.read_excel(filename,i))\n",
    "    if pit_state==True: return change, data\n",
    "    return data"
   ]
  },
  {
   "cell_type": "markdown",
   "id": "06a3ab4e",
   "metadata": {},
   "source": [
    "## Raw Data"
   ]
  },
  {
   "cell_type": "code",
   "execution_count": 125,
   "id": "1e85c45d",
   "metadata": {},
   "outputs": [],
   "source": [
    "#PIT State Data\n",
    "xls = pd.ExcelFile('Data/2007-2022-PIT-Counts-by-State.xlsx')\n",
    "PIT_State_Change, PIT_State = read_file(xls, True)\n",
    "\n",
    "xls = pd.ExcelFile('Data/2011-2022-PIT-Veteran-Counts-by-State.xlsx')\n",
    "PIT_Veteran_State_Change, PIT_Veteran_State = read_file(xls, True)\n",
    "\n",
    "#PIT CoC Data\n",
    "xls = pd.ExcelFile('Data/2007-2022-PIT-Counts-by-CoC.xlsx')\n",
    "PIT_CoC = read_file(xls)\n",
    "\n",
    "xls = pd.ExcelFile('Data/2011-2022-PIT-Veteran-Counts-by-CoC.xlsx')\n",
    "Veteran_CoC = read_file(xls)\n",
    "\n",
    "#HIC State Data\n",
    "xls = pd.ExcelFile('Data/2007-2022-HIC-Counts-by-State.xlsx')\n",
    "HIC_State = read_file(xls)\n",
    "\n",
    "#HIC CoC Data\n",
    "xls = pd.ExcelFile('Data/2007-2022-HIC-Counts-by-CoC.xlsx')\n",
    "HIC_CoC = read_file(xls)\n",
    "\n",
    "#Funding Data\n",
    "xls = pd.ExcelFile('Data/All-States-2020-2021-Funding-Report.xlsx')\n",
    "Funding = read_file(xls)"
   ]
  },
  {
   "cell_type": "markdown",
   "id": "ea9553ed",
   "metadata": {},
   "source": [
    "## Data Cleaning"
   ]
  },
  {
   "cell_type": "code",
   "execution_count": 275,
   "id": "3ab80309",
   "metadata": {},
   "outputs": [],
   "source": [
    "#PIT_State_Change.head()\n",
    "#AS: American Samoa, no data?\n",
    "#MP: Northern Mariana Islands, PR: Puerto Rico, TT: Trust Territories\n",
    "\n",
    "#get rid of states/territories that have no data for total change\n",
    "copy = PIT_State_Change.copy()\n",
    "copy = copy.replace(' ', float('NaN'), regex = True)\n",
    "copy.dropna(subset = ['Change in Total Homelessness, ' + str(2022-(i+1)) + '-' + '2022'], inplace=True)\n",
    "PIT_State_Change_vF = copy"
   ]
  },
  {
   "cell_type": "code",
   "execution_count": 276,
   "id": "69a521de",
   "metadata": {},
   "outputs": [],
   "source": [
    "#PIT_State_Data[0].head()\n",
    "#PIT_State_Data[-1].head() --> 2007 has no data? maybe we can extrapolate\n",
    "\n",
    "#get rid of states/territories that did not collect any homeless data\n",
    "PIT_State_vF = []\n",
    "for i in range(len(PIT_State) - 1):\n",
    "    copy = PIT_State[i].copy()\n",
    "    copy = copy.replace(' ', float('NaN'), regex = True)\n",
    "    copy.dropna(subset = ['Overall Homeless, ' + str(2022-i)], inplace=True)\n",
    "    PIT_State_vF.append(copy)"
   ]
  },
  {
   "cell_type": "code",
   "execution_count": 277,
   "id": "b5bfa3a7",
   "metadata": {},
   "outputs": [],
   "source": [
    "#PIT_CoC_Data[0]\n",
    "#PIT_CoC_Data[-1]\n",
    "#PIT_CoC_Data[-2]\n",
    "\n",
    "\n",
    "#get rid of any CoCs that did not collect any homeless data\n",
    "PIT_CoC_vF = []\n",
    "for i in range(len(PIT_CoC) - 2):\n",
    "    copy = PIT_CoC[i].copy()\n",
    "    copy = copy.replace(' ', float('NaN'), regex = True)\n",
    "    copy.dropna(subset = ['Overall Homeless, ' + str(2022-i)], inplace=True)\n",
    "    PIT_CoC_vF.append(copy)"
   ]
  },
  {
   "cell_type": "code",
   "execution_count": 278,
   "id": "1ab60c35",
   "metadata": {},
   "outputs": [],
   "source": [
    "#Funding[0]\n",
    "\n",
    "#remove unnecessary columns\n",
    "Funding_vF = []\n",
    "for i in range(len(Funding)):\n",
    "    copy = Funding[i].copy()\n",
    "    if i==0:\n",
    "        Funding_vF.append(copy.drop(columns=['CoC Name', 'Organization Name', 'Grant Number']))\n",
    "    else:\n",
    "        Funding_vF.append(copy.drop(columns=['CoC Name', 'Organization Name']))"
   ]
  },
  {
   "cell_type": "code",
   "execution_count": 279,
   "id": "adf0ca44",
   "metadata": {},
   "outputs": [],
   "source": [
    "#PIT_Veteran_State[0]\n",
    "\n",
    "#remove states that don't collect veteran data\n",
    "PIT_Veteran_State_vF = []\n",
    "for i in range(len(PIT_Veteran_State)):\n",
    "    copy = PIT_Veteran_State[i].copy()\n",
    "    copy = copy.replace(' ', float('NaN'), regex = True)\n",
    "    copy.dropna(subset = ['Homeless Veterans, ' + str(2022-i)], inplace=True)\n",
    "    PIT_Veteran_State_vF.append(copy)"
   ]
  },
  {
   "cell_type": "code",
   "execution_count": 280,
   "id": "9f611bf6",
   "metadata": {},
   "outputs": [],
   "source": [
    "#PIT_Veteran_Change\n",
    "#AS seems to never track, let's delete\n",
    "\n",
    "copy = PIT_Veteran_Change.copy()\n",
    "PIT_Veteran_Change_vF = copy.drop([3])"
   ]
  },
  {
   "cell_type": "code",
   "execution_count": 281,
   "id": "f21def9e",
   "metadata": {},
   "outputs": [],
   "source": [
    "#HIC_State[-1]\n",
    "\n",
    "#get rid of unnecessary header, drop any states/territories that don't track total beds\n",
    "HIC_State_vF = []\n",
    "for i in range(len(HIC_State) - 1):\n",
    "    copy = HIC_State[i].copy()\n",
    "    copy = copy.rename(columns=copy.iloc[0]).drop(copy.index[0]).reset_index(drop=True)\n",
    "    copy = copy.replace(' ', float('NaN'), regex = True)\n",
    "    copy.dropna(subset = [copy.columns[1]], inplace=True)\n",
    "    HIC_State_vF.append(copy)"
   ]
  },
  {
   "cell_type": "code",
   "execution_count": 282,
   "id": "f087b9b9",
   "metadata": {},
   "outputs": [],
   "source": [
    "#HIC_CoC[-1]\n",
    "\n",
    "#get rid of unnecessary header, drop any states/territories that don't track total beds\n",
    "HIC_CoC_vF = []\n",
    "for i in range(len(HIC_CoC) - 1):\n",
    "    copy = HIC_CoC[i].copy()\n",
    "    copy = copy.rename(columns=copy.iloc[0]).drop(copy.index[0]).reset_index(drop=True)\n",
    "    copy = copy.replace(' ', float('NaN'), regex = True)\n",
    "    copy.dropna(subset = [copy.columns[1]], inplace=True)\n",
    "    HIC_CoC_vF.append(copy)"
   ]
  },
  {
   "cell_type": "markdown",
   "id": "79179f0f",
   "metadata": {},
   "source": [
    "## Export Cleaned Excel Files"
   ]
  },
  {
   "cell_type": "code",
   "execution_count": 291,
   "id": "077a860d",
   "metadata": {},
   "outputs": [],
   "source": [
    "PIT_State_Change_vF.to_excel(r'Cleaned Data/PIT_State_Change_vF.xlsx',index=False)"
   ]
  },
  {
   "cell_type": "code",
   "execution_count": null,
   "id": "c0836785",
   "metadata": {},
   "outputs": [],
   "source": [
    "with pd.ExcelWriter(r'Cleaned Data/PIT_State_vF.xlsx') as writer:\n",
    "    for i in range(len(PIT_State_vF)):\n",
    "        PIT_State_vF[i].to_excel(writer, sheet_name=str(2022-i), index=False)"
   ]
  },
  {
   "cell_type": "code",
   "execution_count": null,
   "id": "07840835",
   "metadata": {},
   "outputs": [],
   "source": [
    "with pd.ExcelWriter(r'Cleaned Data/PIT_CoC_vF.xlsx') as writer:\n",
    "    for i in range(len(PIT_CoC_vF)):\n",
    "        PIT_CoC_vF[i].to_excel(writer, sheet_name=str(2022-i), index=False)"
   ]
  },
  {
   "cell_type": "code",
   "execution_count": 294,
   "id": "a1aa3c98",
   "metadata": {},
   "outputs": [],
   "source": [
    "with pd.ExcelWriter(r'Cleaned Data/Funding_vF.xlsx') as writer:\n",
    "    for i in range(len(Funding_vF)):\n",
    "        Funding_vF[i].to_excel(writer, sheet_name=str(2020+i), index=False)"
   ]
  },
  {
   "cell_type": "code",
   "execution_count": 296,
   "id": "95a6a5dd",
   "metadata": {},
   "outputs": [],
   "source": [
    "with pd.ExcelWriter(r'Cleaned Data/PIT_Veteran_State_vF.xlsx') as writer:\n",
    "    for i in range(len(PIT_Veteran_State_vF)):\n",
    "        PIT_Veteran_State_vF[i].to_excel(writer, sheet_name=str(2022-i), index=False)"
   ]
  },
  {
   "cell_type": "code",
   "execution_count": 297,
   "id": "5a36a949",
   "metadata": {},
   "outputs": [],
   "source": [
    "PIT_Veteran_Change_vF.to_excel(r'Cleaned Data/PIT_Veteran_Change_vF.xlsx',index=False)"
   ]
  },
  {
   "cell_type": "code",
   "execution_count": 300,
   "id": "912bf171",
   "metadata": {},
   "outputs": [],
   "source": [
    "with pd.ExcelWriter(r'Cleaned Data/HIC_State_vF.xlsx') as writer:\n",
    "    for i in range(len(HIC_State_vF)):\n",
    "        HIC_State_vF[i].to_excel(writer, sheet_name=str(2022-i), index=False)"
   ]
  },
  {
   "cell_type": "code",
   "execution_count": 301,
   "id": "9c5a44f9",
   "metadata": {},
   "outputs": [],
   "source": [
    "with pd.ExcelWriter(r'Cleaned Data/HIC_CoC_vF.xlsx') as writer:\n",
    "    for i in range(len(HIC_CoC_vF)):\n",
    "        HIC_CoC_vF[i].to_excel(writer, sheet_name=str(2022-i), index=False)"
   ]
  }
 ],
 "metadata": {
  "kernelspec": {
   "display_name": "Python 3 (ipykernel)",
   "language": "python",
   "name": "python3"
  },
  "language_info": {
   "codemirror_mode": {
    "name": "ipython",
    "version": 3
   },
   "file_extension": ".py",
   "mimetype": "text/x-python",
   "name": "python",
   "nbconvert_exporter": "python",
   "pygments_lexer": "ipython3",
   "version": "3.9.6"
  }
 },
 "nbformat": 4,
 "nbformat_minor": 5
}
