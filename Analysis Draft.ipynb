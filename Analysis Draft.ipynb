{
 "cells": [
  {
   "cell_type": "markdown",
   "id": "91515484",
   "metadata": {},
   "source": [
    "## KNN classifer - initial test on which variables might be important"
   ]
  },
  {
   "cell_type": "code",
   "execution_count": 76,
   "id": "38147b02",
   "metadata": {},
   "outputs": [],
   "source": [
    "import pandas as pd\n",
    "import cvxpy as cp\n",
    "import numpy as np\n",
    "import matplotlib.pyplot as plt\n",
    "from sklearn.model_selection import train_test_split\n",
    "from sklearn.neighbors import KNeighborsRegressor\n",
    "from sklearn.metrics import mean_squared_error\n",
    "from math import sqrt\n",
    "import seaborn as sns\n",
    "from sklearn.model_selection import GridSearchCV\n",
    "from sklearn.ensemble import BaggingRegressor\n",
    "pd.set_option('display.max_rows', 500)\n",
    "pd.set_option('display.max_columns', 500)"
   ]
  },
  {
   "cell_type": "code",
   "execution_count": 77,
   "id": "20c1eab2",
   "metadata": {},
   "outputs": [],
   "source": [
    "#helper function\n",
    "def read_file(filename):\n",
    "    data = []\n",
    "    for i in range(len(filename.sheet_names)):\n",
    "            data.append(pd.read_excel(filename,i))\n",
    "    return data"
   ]
  },
  {
   "cell_type": "code",
   "execution_count": 78,
   "id": "78bda9f4",
   "metadata": {},
   "outputs": [],
   "source": [
    "xls = pd.ExcelFile('Cleaned Data/PIT_State_vF.xlsx')\n",
    "PIT_State_vF = read_file(xls)\n",
    "#PIT_State_vF[0]"
   ]
  },
  {
   "cell_type": "code",
   "execution_count": 79,
   "id": "6b23e6ef",
   "metadata": {},
   "outputs": [],
   "source": [
    "xls = pd.ExcelFile('Cleaned Data/HIC_State_vF.xlsx')\n",
    "HIC_State_vF = read_file(xls)\n",
    "#HIC_State_vF[0].head()\n",
    "#HIC_State_vF[0][\"State\"].all() == PIT_State_vF[0][\"State\"].all()"
   ]
  },
  {
   "cell_type": "code",
   "execution_count": 80,
   "id": "d88848c8",
   "metadata": {},
   "outputs": [],
   "source": [
    "xls = pd.ExcelFile('Cleaned Data/PIT_State_Change_vF.xlsx')\n",
    "PIT_State_Change_vF = read_file(xls)"
   ]
  },
  {
   "cell_type": "markdown",
   "id": "6d25445f",
   "metadata": {},
   "source": [
    "## Change in Homelessness vs. Inventory Counts"
   ]
  },
  {
   "cell_type": "code",
   "execution_count": 136,
   "id": "2d13d56b",
   "metadata": {},
   "outputs": [],
   "source": [
    "copy = pd.concat([PIT_State_Change_vF[0][\"Change in Total Homelessness, 2021-2022\"], HIC_State_vF[0]], axis = 1)\n",
    "#copy.head()"
   ]
  },
  {
   "cell_type": "code",
   "execution_count": 137,
   "id": "f62ba60d",
   "metadata": {},
   "outputs": [
    {
     "data": {
      "text/plain": [
       "Change in Total Homelessness, 2021-2022                     1.000000\n",
       "Total Year-Round Beds (ES, TH, SH)                         -0.035819\n",
       "Total Non-DV Year-Round Beds (ES, TH, SH)                  -0.035741\n",
       "Total HMIS Year-Round Beds (ES, TH, SH)                    -0.035757\n",
       "HMIS Participation Rate for Year-Round Beds (ES, TH, SH)   -0.587368\n",
       "Name: Change in Total Homelessness, 2021-2022, dtype: float64"
      ]
     },
     "execution_count": 137,
     "metadata": {},
     "output_type": "execute_result"
    }
   ],
   "source": [
    "corr_mat = copy.corr(numeric_only = True)\n",
    "corr_mat[\"Change in Total Homelessness, 2021-2022\"].head()"
   ]
  },
  {
   "cell_type": "code",
   "execution_count": 138,
   "id": "718b19f9",
   "metadata": {},
   "outputs": [],
   "source": [
    "#MP dropped - outlier?\n",
    "copy = copy.drop([26])\n",
    "X = copy.drop([\"State\", \"Change in Total Homelessness, 2021-2022\", \n",
    "               \"HMIS Participation Rate for Year-Round Beds (RRH)\",\n",
    "               \"HMIS Participation Rate for Year-Round Beds (PSH)\",\n",
    "               \"HMIS Participation Rate for Year-Round Beds (OPH)\",\n",
    "               \"HMIS Participation Rate for Year-Round Beds (SH)\",\n",
    "               \"HMIS Participation Rate for Year-Round Beds (TH)\",\n",
    "               \"HMIS Participation Rate for Year-Round Beds (ES)\",\n",
    "               \"HMIS Participation Rate for Year-Round Beds (ES, TH, SH)\"], axis=1)\n",
    "X = X.values\n",
    "y = copy[\"Change in Total Homelessness, 2021-2022\"]\n",
    "y = y.values"
   ]
  },
  {
   "cell_type": "code",
   "execution_count": 139,
   "id": "1096832e",
   "metadata": {},
   "outputs": [
    {
     "data": {
      "text/plain": [
       "1.185543866664504"
      ]
     },
     "execution_count": 139,
     "metadata": {},
     "output_type": "execute_result"
    }
   ],
   "source": [
    "X_train, X_test, y_train, y_test = train_test_split(X, y, test_size=0.2, random_state=12345)\n",
    "parameters = {\"n_neighbors\": range(1, 25), 'weights': ['uniform', 'distance']}\n",
    "gridsearch = GridSearchCV(KNeighborsRegressor(), parameters)\n",
    "gridsearch.fit(X_train, y_train)\n",
    "#gridsearch.best_params_\n",
    "\n",
    "best_k = gridsearch.best_params_[\"n_neighbors\"]\n",
    "best_weights = gridsearch.best_params_[\"weights\"]\n",
    "bagged_knn = KNeighborsRegressor(n_neighbors=best_k, weights=best_weights)\n",
    "bagging_model = BaggingRegressor(bagged_knn, n_estimators=100)\n",
    "\n",
    "bagging_model.fit(X_train, y_train)\n",
    "test_preds_grid = bagging_model.predict(X_test)\n",
    "test_mse = mean_squared_error(y_test, test_preds_grid)\n",
    "test_rmse = sqrt(test_mse)\n",
    "test_rmse"
   ]
  },
  {
   "cell_type": "markdown",
   "id": "bea49cf3",
   "metadata": {},
   "source": [
    "## Change in Homelessness vs Change in Inventory Counts"
   ]
  },
  {
   "cell_type": "code",
   "execution_count": 140,
   "id": "7e8b0107",
   "metadata": {},
   "outputs": [],
   "source": [
    "if HIC_State_vF[0].columns.all() == HIC_State_vF[1].columns.all():\n",
    "    new1 = HIC_State_vF[0].drop([\"State\", \n",
    "                   \"HMIS Participation Rate for Year-Round Beds (RRH)\",\n",
    "                   \"HMIS Participation Rate for Year-Round Beds (PSH)\",\n",
    "                   \"HMIS Participation Rate for Year-Round Beds (OPH)\",\n",
    "                   \"HMIS Participation Rate for Year-Round Beds (SH)\",\n",
    "                   \"HMIS Participation Rate for Year-Round Beds (TH)\",\n",
    "                   \"HMIS Participation Rate for Year-Round Beds (ES)\",\n",
    "                   \"HMIS Participation Rate for Year-Round Beds (ES, TH, SH)\"], axis=1)\n",
    "\n",
    "    new2 = HIC_State_vF[1].drop([\"State\", \n",
    "                   \"HMIS Participation Rate for Year-Round Beds (RRH)\",\n",
    "                   \"HMIS Participation Rate for Year-Round Beds (PSH)\",\n",
    "                   \"HMIS Participation Rate for Year-Round Beds (OPH)\",\n",
    "                   \"HMIS Participation Rate for Year-Round Beds (SH)\",\n",
    "                   \"HMIS Participation Rate for Year-Round Beds (TH)\",\n",
    "                   \"HMIS Participation Rate for Year-Round Beds (ES)\",\n",
    "                   \"HMIS Participation Rate for Year-Round Beds (ES, TH, SH)\"], axis=1)"
   ]
  },
  {
   "cell_type": "code",
   "execution_count": 141,
   "id": "82ebb17f",
   "metadata": {},
   "outputs": [],
   "source": [
    "copy = pd.concat([PIT_State_Change_vF[0][\"Change in Total Homelessness, 2021-2022\"], new1-new2], axis = 1)\n",
    "copy = copy.drop([26])\n",
    "X = copy.drop([\"Change in Total Homelessness, 2021-2022\"], axis=1).values\n",
    "y = copy[\"Change in Total Homelessness, 2021-2022\"].values"
   ]
  },
  {
   "cell_type": "code",
   "execution_count": 142,
   "id": "2ad10476",
   "metadata": {},
   "outputs": [
    {
     "data": {
      "text/plain": [
       "0.7753874526519906"
      ]
     },
     "execution_count": 142,
     "metadata": {},
     "output_type": "execute_result"
    }
   ],
   "source": [
    "X_train, X_test, y_train, y_test = train_test_split(X, y, test_size=0.2, random_state=1421)\n",
    "parameters = {\"n_neighbors\": range(1, 30), 'weights': ['uniform', 'distance']}\n",
    "gridsearch = GridSearchCV(KNeighborsRegressor(), parameters)\n",
    "gridsearch.fit(X_train, y_train)\n",
    "#gridsearch.best_params_\n",
    "\n",
    "best_k = gridsearch.best_params_[\"n_neighbors\"]\n",
    "best_weights = gridsearch.best_params_[\"weights\"]\n",
    "bagged_knn = KNeighborsRegressor(n_neighbors=best_k, weights=best_weights)\n",
    "bagging_model = BaggingRegressor(bagged_knn, n_estimators=100)\n",
    "\n",
    "bagging_model.fit(X_train, y_train)\n",
    "test_preds_grid = bagging_model.predict(X_test)\n",
    "test_mse = mean_squared_error(y_test, test_preds_grid)\n",
    "test_rmse = sqrt(test_mse)\n",
    "test_rmse"
   ]
  },
  {
   "cell_type": "code",
   "execution_count": 143,
   "id": "44eb4d37",
   "metadata": {},
   "outputs": [],
   "source": [
    "#change in inventory seems to be the better predictor for change in homeless, although not \"foolproof\""
   ]
  },
  {
   "cell_type": "code",
   "execution_count": 144,
   "id": "d70b2b72",
   "metadata": {},
   "outputs": [
    {
     "data": {
      "text/html": [
       "<style>#sk-container-id-4 {color: black;background-color: white;}#sk-container-id-4 pre{padding: 0;}#sk-container-id-4 div.sk-toggleable {background-color: white;}#sk-container-id-4 label.sk-toggleable__label {cursor: pointer;display: block;width: 100%;margin-bottom: 0;padding: 0.3em;box-sizing: border-box;text-align: center;}#sk-container-id-4 label.sk-toggleable__label-arrow:before {content: \"▸\";float: left;margin-right: 0.25em;color: #696969;}#sk-container-id-4 label.sk-toggleable__label-arrow:hover:before {color: black;}#sk-container-id-4 div.sk-estimator:hover label.sk-toggleable__label-arrow:before {color: black;}#sk-container-id-4 div.sk-toggleable__content {max-height: 0;max-width: 0;overflow: hidden;text-align: left;background-color: #f0f8ff;}#sk-container-id-4 div.sk-toggleable__content pre {margin: 0.2em;color: black;border-radius: 0.25em;background-color: #f0f8ff;}#sk-container-id-4 input.sk-toggleable__control:checked~div.sk-toggleable__content {max-height: 200px;max-width: 100%;overflow: auto;}#sk-container-id-4 input.sk-toggleable__control:checked~label.sk-toggleable__label-arrow:before {content: \"▾\";}#sk-container-id-4 div.sk-estimator input.sk-toggleable__control:checked~label.sk-toggleable__label {background-color: #d4ebff;}#sk-container-id-4 div.sk-label input.sk-toggleable__control:checked~label.sk-toggleable__label {background-color: #d4ebff;}#sk-container-id-4 input.sk-hidden--visually {border: 0;clip: rect(1px 1px 1px 1px);clip: rect(1px, 1px, 1px, 1px);height: 1px;margin: -1px;overflow: hidden;padding: 0;position: absolute;width: 1px;}#sk-container-id-4 div.sk-estimator {font-family: monospace;background-color: #f0f8ff;border: 1px dotted black;border-radius: 0.25em;box-sizing: border-box;margin-bottom: 0.5em;}#sk-container-id-4 div.sk-estimator:hover {background-color: #d4ebff;}#sk-container-id-4 div.sk-parallel-item::after {content: \"\";width: 100%;border-bottom: 1px solid gray;flex-grow: 1;}#sk-container-id-4 div.sk-label:hover label.sk-toggleable__label {background-color: #d4ebff;}#sk-container-id-4 div.sk-serial::before {content: \"\";position: absolute;border-left: 1px solid gray;box-sizing: border-box;top: 0;bottom: 0;left: 50%;z-index: 0;}#sk-container-id-4 div.sk-serial {display: flex;flex-direction: column;align-items: center;background-color: white;padding-right: 0.2em;padding-left: 0.2em;position: relative;}#sk-container-id-4 div.sk-item {position: relative;z-index: 1;}#sk-container-id-4 div.sk-parallel {display: flex;align-items: stretch;justify-content: center;background-color: white;position: relative;}#sk-container-id-4 div.sk-item::before, #sk-container-id-4 div.sk-parallel-item::before {content: \"\";position: absolute;border-left: 1px solid gray;box-sizing: border-box;top: 0;bottom: 0;left: 50%;z-index: -1;}#sk-container-id-4 div.sk-parallel-item {display: flex;flex-direction: column;z-index: 1;position: relative;background-color: white;}#sk-container-id-4 div.sk-parallel-item:first-child::after {align-self: flex-end;width: 50%;}#sk-container-id-4 div.sk-parallel-item:last-child::after {align-self: flex-start;width: 50%;}#sk-container-id-4 div.sk-parallel-item:only-child::after {width: 0;}#sk-container-id-4 div.sk-dashed-wrapped {border: 1px dashed gray;margin: 0 0.4em 0.5em 0.4em;box-sizing: border-box;padding-bottom: 0.4em;background-color: white;}#sk-container-id-4 div.sk-label label {font-family: monospace;font-weight: bold;display: inline-block;line-height: 1.2em;}#sk-container-id-4 div.sk-label-container {text-align: center;}#sk-container-id-4 div.sk-container {/* jupyter's `normalize.less` sets `[hidden] { display: none; }` but bootstrap.min.css set `[hidden] { display: none !important; }` so we also need the `!important` here to be able to override the default hidden behavior on the sphinx rendered scikit-learn.org. See: https://github.com/scikit-learn/scikit-learn/issues/21755 */display: inline-block !important;position: relative;}#sk-container-id-4 div.sk-text-repr-fallback {display: none;}</style><div id=\"sk-container-id-4\" class=\"sk-top-container\"><div class=\"sk-text-repr-fallback\"><pre>DecisionTreeRegressor(random_state=100)</pre><b>In a Jupyter environment, please rerun this cell to show the HTML representation or trust the notebook. <br />On GitHub, the HTML representation is unable to render, please try loading this page with nbviewer.org.</b></div><div class=\"sk-container\" hidden><div class=\"sk-item\"><div class=\"sk-estimator sk-toggleable\"><input class=\"sk-toggleable__control sk-hidden--visually\" id=\"sk-estimator-id-6\" type=\"checkbox\" checked><label for=\"sk-estimator-id-6\" class=\"sk-toggleable__label sk-toggleable__label-arrow\">DecisionTreeRegressor</label><div class=\"sk-toggleable__content\"><pre>DecisionTreeRegressor(random_state=100)</pre></div></div></div></div></div>"
      ],
      "text/plain": [
       "DecisionTreeRegressor(random_state=100)"
      ]
     },
     "execution_count": 144,
     "metadata": {},
     "output_type": "execute_result"
    }
   ],
   "source": [
    "from sklearn.tree import DecisionTreeRegressor \n",
    "  \n",
    "# create a regressor object\n",
    "regressor = DecisionTreeRegressor(random_state = 100) \n",
    "  \n",
    "# fit the regressor with X and Y data\n",
    "regressor.fit(X_train, y_train)"
   ]
  },
  {
   "cell_type": "code",
   "execution_count": 145,
   "id": "adf45605",
   "metadata": {},
   "outputs": [],
   "source": [
    "y_pred = regressor.predict(X_test)"
   ]
  },
  {
   "cell_type": "code",
   "execution_count": 146,
   "id": "baea46cb",
   "metadata": {},
   "outputs": [
    {
     "data": {
      "text/plain": [
       "array([ 0.5003167,  0.1131387, -0.011299 ,  0.1131387,  0.0593077,\n",
       "        0.1496026,  0.1233655,  0.2446725,  0.5003167, -0.060086 ,\n",
       "       -0.119933 ])"
      ]
     },
     "execution_count": 146,
     "metadata": {},
     "output_type": "execute_result"
    }
   ],
   "source": [
    "y_pred"
   ]
  },
  {
   "cell_type": "code",
   "execution_count": 147,
   "id": "cef543fb",
   "metadata": {},
   "outputs": [
    {
     "data": {
      "text/plain": [
       "array([ 2.1640280e-01,  7.6458800e-02,  1.2996530e-01,  7.0012240e-01,\n",
       "        3.4605180e-01,  2.4598780e+00, -2.2440000e-03,  1.4822344e+00,\n",
       "        1.5757730e-01,  2.1687730e-01, -4.5383000e-02])"
      ]
     },
     "execution_count": 147,
     "metadata": {},
     "output_type": "execute_result"
    }
   ],
   "source": [
    "y_test"
   ]
  },
  {
   "cell_type": "code",
   "execution_count": 148,
   "id": "004b2493",
   "metadata": {},
   "outputs": [
    {
     "data": {
      "text/plain": [
       "0.831926923042276"
      ]
     },
     "execution_count": 148,
     "metadata": {},
     "output_type": "execute_result"
    }
   ],
   "source": [
    "test_mse = mean_squared_error(y_test, y_pred)\n",
    "test_rmse = sqrt(test_mse)\n",
    "test_rmse"
   ]
  },
  {
   "cell_type": "code",
   "execution_count": null,
   "id": "474e60e7",
   "metadata": {},
   "outputs": [],
   "source": []
  }
 ],
 "metadata": {
  "kernelspec": {
   "display_name": "Python 3 (ipykernel)",
   "language": "python",
   "name": "python3"
  },
  "language_info": {
   "codemirror_mode": {
    "name": "ipython",
    "version": 3
   },
   "file_extension": ".py",
   "mimetype": "text/x-python",
   "name": "python",
   "nbconvert_exporter": "python",
   "pygments_lexer": "ipython3",
   "version": "3.9.6"
  }
 },
 "nbformat": 4,
 "nbformat_minor": 5
}
